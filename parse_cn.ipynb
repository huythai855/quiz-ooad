{
 "cells": [
  {
   "cell_type": "code",
   "execution_count": 120,
   "metadata": {},
   "outputs": [],
   "source": [
    "import pymupdf\n",
    "\n",
    "doc = pymupdf.open(\"./docs/trac-nghiem-ccna_compress.pdf\")"
   ]
  },
  {
   "cell_type": "code",
   "execution_count": 121,
   "metadata": {},
   "outputs": [],
   "source": [
    "DUMMY_QUESTION = {\n",
    "    \"question\": \"\",\n",
    "    \"answers\": [],\n",
    "    \"correct_answer\": None,\n",
    "}"
   ]
  },
  {
   "cell_type": "code",
   "execution_count": 122,
   "metadata": {},
   "outputs": [
    {
     "name": "stdout",
     "output_type": "stream",
     "text": [
      "107\n"
     ]
    }
   ],
   "source": [
    "import re\n",
    "import json\n",
    "from copy import deepcopy\n",
    "\n",
    "questions = []\n",
    "current_question = None\n",
    "\n",
    "for page in doc:\n",
    "    blocks = page.get_text(\"dict\", flags=11)[\"blocks\"]\n",
    "    for b in blocks:  # iterate through the text blocks\n",
    "        for l in b[\"lines\"]:  # iterate through the text lines\n",
    "            for s in l[\"spans\"]:  # iterate through the text spans\n",
    "                if s[\"text\"].startswith(\"CÂU\") or s[\"text\"].startswith(\"Câu\"):\n",
    "                    if current_question is not None:\n",
    "                        questions.append(current_question)\n",
    "                    current_question = deepcopy(DUMMY_QUESTION)\n",
    "                elif s[\"text\"][:2] in [\"a.\", \"b.\", \"c.\", \"d.\"]:\n",
    "                    if s[\"color\"] == 16711680:\n",
    "                        current_question[\"correct_answer\"] = len(\n",
    "                            current_question[\"answers\"]\n",
    "                        )\n",
    "\n",
    "                    current_question[\"answers\"].append(s[\"text\"][3:].strip())\n",
    "                else:\n",
    "                    current_question[\"question\"] += s[\"text\"]\n",
    "\n",
    "if current_question is not None:\n",
    "    questions.append(current_question)\n",
    "\n",
    "# filter questions with no correct answer\n",
    "questions = [q for q in questions if q[\"correct_answer\"] is not None]\n",
    "\n",
    "print(len(questions))"
   ]
  },
  {
   "cell_type": "code",
   "execution_count": 123,
   "metadata": {},
   "outputs": [],
   "source": [
    "questions_1 = questions"
   ]
  },
  {
   "cell_type": "code",
   "execution_count": 124,
   "metadata": {},
   "outputs": [
    {
     "name": "stdout",
     "output_type": "stream",
     "text": [
      "167\n"
     ]
    }
   ],
   "source": [
    "from bs4 import BeautifulSoup\n",
    "\n",
    "with open(\"./docs/Computer NetWork _ AI BLOG.html\") as f:\n",
    "    html_content = f.read()\n",
    "\n",
    "soup = BeautifulSoup(html_content, \"html.parser\")\n",
    "content = soup.find(\"article\")\n",
    "\n",
    "questions = []\n",
    "current_question = None\n",
    "\n",
    "# each children in content\n",
    "for child in content.children:\n",
    "    if child.name == \"p\":\n",
    "        if child.text.startswith(\"Câu\"):\n",
    "            if current_question is not None:\n",
    "                questions.append(current_question)\n",
    "            current_question = deepcopy(DUMMY_QUESTION)\n",
    "            current_question[\"question\"] = re.sub(r\"Câu \\d+\", \"\", child.text).strip()\n",
    "\n",
    "            if current_question[\"question\"].startswith(\".\"):\n",
    "                current_question[\"question\"] = current_question[\"question\"][1:].strip()\n",
    "\n",
    "    elif child.name == \"ul\":\n",
    "\n",
    "        # if classname is task-list\n",
    "        if child.get(\"class\") == [\"task-list\"]:\n",
    "            for li in child.find_all(\"li\"):\n",
    "                checkbox = li.find(\"input\")\n",
    "                if checkbox is not None:\n",
    "                    if checkbox.get(\"checked\") is not None:\n",
    "                        if current_question[\"correct_answer\"] is None:\n",
    "                            current_question[\"correct_answer\"] = len(\n",
    "                                current_question[\"answers\"]\n",
    "                            )\n",
    "                        elif type(current_question[\"correct_answer\"]) == int:\n",
    "                            current_question[\"correct_answer\"] = [\n",
    "                                current_question[\"correct_answer\"],\n",
    "                                len(current_question[\"answers\"]),\n",
    "                            ]\n",
    "                        else:\n",
    "                            current_question[\"correct_answer\"].append(\n",
    "                                len(current_question[\"answers\"])\n",
    "                            )\n",
    "                current_question[\"answers\"].append(li.text)\n",
    "        else:\n",
    "            current_question[\"question\"] += \"\\n\" + child.text\n",
    "\n",
    "    elif child.name == \"blockquote\":\n",
    "        explanation = child.text.split(\"Giải thích:\")[1].strip()\n",
    "\n",
    "        if explanation != \"None\" and explanation != \"\":\n",
    "            current_question[\"explanation\"] = explanation\n",
    "\n",
    "if current_question is not None:\n",
    "    questions.append(current_question)\n",
    "\n",
    "# filter questions with no correct answer\n",
    "questions = [q for q in questions if q[\"correct_answer\"] is not None]\n",
    "\n",
    "questions_2 = questions\n",
    "\n",
    "print(len(questions_2))"
   ]
  },
  {
   "cell_type": "code",
   "execution_count": 125,
   "metadata": {},
   "outputs": [
    {
     "name": "stdout",
     "output_type": "stream",
     "text": [
      "150\n"
     ]
    }
   ],
   "source": [
    "doc = pymupdf.open(\"./docs/mmt-quiz-bank.pdf\")\n",
    "\n",
    "questions = []\n",
    "current_question = None\n",
    "answer_set = set()\n",
    "\n",
    "i = 0\n",
    "for page in doc:\n",
    "    blocks = page.get_text(\"dict\", flags=11)[\"blocks\"]\n",
    "    for b in blocks:\n",
    "        for l in b[\"lines\"]:\n",
    "            for s in l[\"spans\"]:\n",
    "                if s[\"text\"].startswith(\"Câu\"):\n",
    "                    if current_question is not None:\n",
    "                        questions.append(current_question)\n",
    "\n",
    "                    answer_set = set()\n",
    "                    current_question = deepcopy(DUMMY_QUESTION)\n",
    "                    current_question[\"question\"] = re.sub(\n",
    "                        r\"Câu \\d+.\", \"\", s[\"text\"]\n",
    "                    ).strip()\n",
    "                elif current_question is not None:\n",
    "                    if s[\"text\"][:2] in [\n",
    "                        \"a.\",\n",
    "                        \"b.\",\n",
    "                        \"c.\",\n",
    "                        \"d.\",\n",
    "                        \"e.\",\n",
    "                        \"f.\",\n",
    "                        \"g.\",\n",
    "                    ] and not (s[\"text\"][:2] in answer_set):\n",
    "                        answer_set.add(s[\"text\"][:2])\n",
    "\n",
    "                        if \"Bold\" in s[\"font\"]:\n",
    "                            if current_question[\"correct_answer\"] is None:\n",
    "                                current_question[\"correct_answer\"] = len(\n",
    "                                    current_question[\"answers\"]\n",
    "                                )\n",
    "                            elif type(current_question[\"correct_answer\"]) == int:\n",
    "                                current_question[\"correct_answer\"] = [\n",
    "                                    current_question[\"correct_answer\"],\n",
    "                                    len(current_question[\"answers\"]),\n",
    "                                ]\n",
    "                            else:\n",
    "                                current_question[\"correct_answer\"].append(\n",
    "                                    len(current_question[\"answers\"])\n",
    "                                )\n",
    "\n",
    "                        current_question[\"answers\"].append(s[\"text\"][2:].strip())\n",
    "                    elif \"Gợi ý:\" in s[\"text\"]:\n",
    "                        current_question[\"explanation\"] = re.sub(\n",
    "                            r\"Gợi ý:\", \"\", s[\"text\"]\n",
    "                        )\n",
    "                    else:\n",
    "                        if \"explanation\" in current_question:\n",
    "                            current_question[\"explanation\"] += \"\\n\" + s[\"text\"]\n",
    "                        elif len(current_question[\"answers\"]) > 0:\n",
    "                            current_question[\"answers\"][-1] += s[\"text\"]\n",
    "                        else:\n",
    "                            current_question[\"question\"] += s[\"text\"]\n",
    "\n",
    "if current_question is not None:\n",
    "    questions.append(current_question)\n",
    "\n",
    "# remove \"Gợi ý:\" in explanation\n",
    "for q in questions:\n",
    "    if \"explanation\" in q:\n",
    "        q[\"explanation\"] = re.sub(r\"Gợi ý:\", \"\", q[\"explanation\"]).strip()\n",
    "\n",
    "# filter questions with no correct answer\n",
    "questions = [q for q in questions if q[\"correct_answer\"] is not None]\n",
    "\n",
    "print(len(questions))"
   ]
  },
  {
   "cell_type": "code",
   "execution_count": 126,
   "metadata": {},
   "outputs": [],
   "source": [
    "questions_3 = questions"
   ]
  },
  {
   "cell_type": "code",
   "execution_count": 127,
   "metadata": {},
   "outputs": [
    {
     "name": "stdout",
     "output_type": "stream",
     "text": [
      "424\n"
     ]
    }
   ],
   "source": [
    "# total questions\n",
    "print(len(questions_1) + len(questions_2) + len(questions_3))"
   ]
  },
  {
   "cell_type": "code",
   "execution_count": 128,
   "metadata": {},
   "outputs": [],
   "source": [
    "with open(\"./data/cn.json\", \"w\") as f:\n",
    "    json.dump(\n",
    "        [*questions_1, *questions_2, *questions_3], f, ensure_ascii=False, indent=4\n",
    "    )"
   ]
  }
 ],
 "metadata": {
  "kernelspec": {
   "display_name": "base",
   "language": "python",
   "name": "python3"
  },
  "language_info": {
   "codemirror_mode": {
    "name": "ipython",
    "version": 3
   },
   "file_extension": ".py",
   "mimetype": "text/x-python",
   "name": "python",
   "nbconvert_exporter": "python",
   "pygments_lexer": "ipython3",
   "version": "3.10.14"
  }
 },
 "nbformat": 4,
 "nbformat_minor": 2
}
