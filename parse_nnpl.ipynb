{
 "cells": [
  {
   "cell_type": "code",
   "execution_count": 109,
   "metadata": {},
   "outputs": [
    {
     "name": "stdout",
     "output_type": "stream",
     "text": [
      "0    STT                                   Nội dung câu hỏi  \\\n",
      "1     1.  Nội dung nào sau đây không phải là đặc\\nđiểm c...   \n",
      "2   None                                               None   \n",
      "3   None                                               None   \n",
      "4   None                                               None   \n",
      "5   None                                               None   \n",
      "..   ...                                                ...   \n",
      "17  None                                               None   \n",
      "18  197.                      Phương án nào sau đây là sai:   \n",
      "19  198.  Loại chế tài nào sau đây không phải là\\nhình p...   \n",
      "20  199.                    Khẳng định nào sau đây là đúng:   \n",
      "21  200.  Hành vi gây thiệt hại trong tình thế cấp thiết...   \n",
      "\n",
      "0                                           Phương án Đáp\\nán  Phần Câṕ\\nđộ  \n",
      "1   A. Nhà nước ban hành pháp luật\\nB. Nhà nước qu...       D     1        1  \n",
      "2                                                None    None  None     None  \n",
      "3                                                None    None  None     None  \n",
      "4                                                None    None  None     None  \n",
      "5                                                None    None  None     None  \n",
      "..                                                ...     ...   ...      ...  \n",
      "17                                               None    None  None     None  \n",
      "18  A. Người từ đủ 14 tuổi trở lên phải\\nchịu trác...       A     5        2  \n",
      "19  A.Cảnh cáo\\nB. Án treo\\nC. Phạt tiền\\nD. Tù có...       B     5        3  \n",
      "20  A. Một hành vi bị coi là tội phạm\\nthì không t...       D     5        3  \n",
      "21  A. Hành vi đó không trái pháp luật.\\nB. Người ...       A     5        3  \n",
      "\n",
      "[242 rows x 6 columns]\n"
     ]
    }
   ],
   "source": [
    "import pymupdf\n",
    "import pandas as pd\n",
    "import re\n",
    "\n",
    "# Open some document, for example a PDF (could also be EPUB, XPS, etc.)\n",
    "doc = pymupdf.open(\"./docs/nnpl.pdf\")\n",
    "\n",
    "tables = []\n",
    "\n",
    "# skip first table of first page\n",
    "skip = False\n",
    "for page in doc:\n",
    "    for table in page.find_tables():\n",
    "        if not skip:\n",
    "            skip = True\n",
    "            continue\n",
    "\n",
    "        # columns name is first row\n",
    "        df = pd.DataFrame(table.extract())\n",
    "        df.columns = df.iloc[0]\n",
    "        df = df[1:]\n",
    "\n",
    "        # remove columns with name None\n",
    "        df = df.loc[:, df.columns.notnull()]\n",
    "\n",
    "        tables.append(df)\n",
    "\n",
    "# merge all tables\n",
    "df = pd.concat(tables)\n",
    "\n",
    "print(df)"
   ]
  },
  {
   "cell_type": "code",
   "execution_count": 110,
   "metadata": {},
   "outputs": [],
   "source": [
    "DUMMDUMMY_QUESTION = {\n",
    "    \"question\": \"\",\n",
    "    \"answers\": \"\",\n",
    "    \"correct_answer\": None,\n",
    "    \"level\": \"\",\n",
    "    \"part\": \"\",\n",
    "}"
   ]
  },
  {
   "cell_type": "code",
   "execution_count": 111,
   "metadata": {},
   "outputs": [],
   "source": [
    "from copy import deepcopy"
   ]
  },
  {
   "cell_type": "code",
   "execution_count": 112,
   "metadata": {},
   "outputs": [
    {
     "name": "stdout",
     "output_type": "stream",
     "text": [
      "Index(['STT', 'Nội dung câu hỏi', 'Phương án', 'Đáp án', 'Phần', 'Câṕ độ'], dtype='object', name=0)\n"
     ]
    }
   ],
   "source": [
    "# replace \\n with space\n",
    "df.columns = df.columns.str.replace(\"\\n\", \" \")\n",
    "\n",
    "print(df.columns)"
   ]
  },
  {
   "cell_type": "code",
   "execution_count": 113,
   "metadata": {},
   "outputs": [],
   "source": [
    "current_question = None\n",
    "questions = []\n",
    "\n",
    "for idx, row in df.iterrows():\n",
    "    if row[\"STT\"]:\n",
    "        if current_question:\n",
    "            questions.append(current_question)\n",
    "        current_question = deepcopy(DUMMDUMMY_QUESTION)\n",
    "\n",
    "    if row[\"Nội dung câu hỏi\"]:\n",
    "        current_question[\"question\"] += \" \" + row[\"Nội dung câu hỏi\"]\n",
    "\n",
    "    if row[\"Phương án\"]:\n",
    "        current_question[\"answers\"] += row[\"Phương án\"]\n",
    "\n",
    "    if row[\"Đáp án\"]:\n",
    "        current_question[\"correct_answer\"] = [\"A\", \"B\", \"C\", \"D\"].index(\n",
    "            row[\"Đáp án\"][0]\n",
    "        )\n",
    "\n",
    "    if row[\"Phần\"]:\n",
    "        current_question[\"part\"] = row[\"Phần\"]\n",
    "\n",
    "    if row[\"Câṕ độ\"]:\n",
    "        current_question[\"level\"] = row[\"Câṕ độ\"]\n",
    "\n",
    "questions.append(current_question)"
   ]
  },
  {
   "cell_type": "code",
   "execution_count": 114,
   "metadata": {},
   "outputs": [
    {
     "name": "stdout",
     "output_type": "stream",
     "text": [
      "200\n"
     ]
    }
   ],
   "source": [
    "# conver \"A. ajsadjhsd \\n B. asdjasd \\n C. asdjasd \\n D. asdjasd\" to [\"ajsadjhsd\", \"asdjasd\", \"asdjasd\", \"asdjasd\"]\n",
    "for question in questions:\n",
    "    # replace \\n with space\n",
    "    question[\"question\"] = question[\"question\"].replace(\"\\n\", \" \")\n",
    "    question[\"answers\"] = question[\"answers\"].replace(\"\\n\", \" \")\n",
    "\n",
    "    # split answers\n",
    "    question[\"answers\"] = re.split(r\"\\s*[A-D]\\.\\s*\", question[\"answers\"])[1:]\n",
    "\n",
    "    question[\"question\"] += f\" (phần {question['part']}, cấp độ {question['level']})\"\n",
    "    question.pop(\"part\")\n",
    "    question.pop(\"level\")\n",
    "\n",
    "print(len(questions))"
   ]
  },
  {
   "cell_type": "code",
   "execution_count": 115,
   "metadata": {},
   "outputs": [],
   "source": [
    "import json\n",
    "\n",
    "with open(\"data/nnpl.json\", \"w\") as f:\n",
    "    json.dump(questions, f, indent=4, ensure_ascii=False)"
   ]
  }
 ],
 "metadata": {
  "kernelspec": {
   "display_name": "base",
   "language": "python",
   "name": "python3"
  },
  "language_info": {
   "codemirror_mode": {
    "name": "ipython",
    "version": 3
   },
   "file_extension": ".py",
   "mimetype": "text/x-python",
   "name": "python",
   "nbconvert_exporter": "python",
   "pygments_lexer": "ipython3",
   "version": "3.10.14"
  }
 },
 "nbformat": 4,
 "nbformat_minor": 2
}
