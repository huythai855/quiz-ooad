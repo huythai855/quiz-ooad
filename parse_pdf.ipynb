{
 "cells": [
  {
   "cell_type": "code",
   "execution_count": 178,
   "metadata": {},
   "outputs": [],
   "source": [
    "from docx import Document\n",
    "import re\n",
    "import os\n",
    "import json\n",
    "from copy import deepcopy\n",
    "\n",
    "doc = Document(\"questions.docx\")"
   ]
  },
  {
   "cell_type": "code",
   "execution_count": 179,
   "metadata": {},
   "outputs": [],
   "source": [
    "DUMMY_QUESTION = {\n",
    "    \"question\": \"\",\n",
    "    \"answers\": [],\n",
    "    \"correct_answer\": None,\n",
    "}"
   ]
  },
  {
   "cell_type": "code",
   "execution_count": 180,
   "metadata": {},
   "outputs": [
    {
     "name": "stdout",
     "output_type": "stream",
     "text": [
      "{'rId2': 'image1.jpeg', 'rId3': 'image1.jpeg', 'rId4': 'image2.jpeg', 'rId5': 'image3.jpeg', 'rId6': 'image4.jpeg', 'rId7': 'image5.jpeg', 'rId8': 'image6.jpeg', 'rId9': 'image7.jpeg', 'rId10': 'image8.jpeg', 'rId11': 'image9.jpeg', 'rId12': 'image10.jpeg', 'rId13': 'image11.jpeg', 'rId14': 'image12.jpeg', 'rId15': 'image13.jpeg', 'rId16': 'image14.jpeg', 'rId17': 'image15.jpeg', 'rId18': 'image16.jpeg', 'rId19': 'image17.jpeg', 'rId20': 'image18.jpeg'}\n"
     ]
    }
   ],
   "source": [
    "rels = doc.part.rels\n",
    "\n",
    "output_folder = \"images\"\n",
    "\n",
    "# Create output folder if it doesn't exist\n",
    "if not os.path.exists(output_folder):\n",
    "    os.makedirs(output_folder)\n",
    "\n",
    "idx_to_image = {}\n",
    "\n",
    "for rel in rels:\n",
    "    if \"image\" in rels[rel].target_ref:\n",
    "        image = rels[rel].target_part.blob\n",
    "\n",
    "        image_name = rels[rel].target_ref.split(\"/\")[-1]\n",
    "        idx = rels[rel].rId\n",
    "\n",
    "        idx_to_image[idx] = image_name\n",
    "\n",
    "        with open(os.path.join(output_folder, image_name), \"wb\") as img_file:\n",
    "            img_file.write(image)\n",
    "\n",
    "print(idx_to_image)"
   ]
  },
  {
   "cell_type": "code",
   "execution_count": 181,
   "metadata": {},
   "outputs": [
    {
     "name": "stdout",
     "output_type": "stream",
     "text": [
      "200\n"
     ]
    }
   ],
   "source": [
    "curr_question = None\n",
    "questions = []\n",
    "\n",
    "\n",
    "for paragraph in doc.paragraphs:\n",
    "    if len(paragraph.runs) == 0:\n",
    "        continue\n",
    "\n",
    "    run = paragraph.runs[0]\n",
    "\n",
    "    if run.bold and \"Câu Hỏi\" in run.text:\n",
    "        if curr_question is not None:\n",
    "            questions.append(curr_question)\n",
    "\n",
    "        curr_question = deepcopy(DUMMY_QUESTION)\n",
    "        curr_answer_idx = -1\n",
    "\n",
    "    elif run.font.highlight_color == 3:\n",
    "        curr_question[\"explanation\"] = run.text\n",
    "\n",
    "    elif curr_question is None:\n",
    "        continue\n",
    "\n",
    "    elif paragraph._element.xml.find(\"w:drawing\") != -1:\n",
    "        # <a:blip r:embed=\"rId##\" cstate=\"print\"/> using re\n",
    "        image_id = re.search(r'r:embed=\"rId\\d+\"', paragraph._element.xml)\n",
    "        if image_id:\n",
    "            image_id = image_id.group(0).split('\"')[1]\n",
    "            curr_question[\"image\"] = idx_to_image[image_id]\n",
    "\n",
    "    elif not run.font.bold:\n",
    "        if paragraph._element.xml.find(\"w:numPr\") != -1:\n",
    "            if paragraph.text.strip():\n",
    "                curr_question[\"answers\"].append(paragraph.text)\n",
    "\n",
    "            # red\n",
    "            if run.font.highlight_color == 6:\n",
    "                curr_question[\"correct_answer\"] = len(curr_question[\"answers\"]) - 1\n",
    "\n",
    "        elif len(curr_question[\"answers\"]) == 0:\n",
    "            curr_question[\"question\"] += paragraph.text\n",
    "\n",
    "questions.append(curr_question)\n",
    "\n",
    "questions = [\n",
    "    q for q in questions if len(q[\"answers\"]) > 0 and q[\"correct_answer\"] is not None\n",
    "]\n",
    "\n",
    "print(len(questions))\n",
    "\n",
    "json.dump(questions, open(\"questions.json\", \"w\"), indent=4, ensure_ascii=False)"
   ]
  },
  {
   "cell_type": "code",
   "execution_count": null,
   "metadata": {},
   "outputs": [],
   "source": []
  }
 ],
 "metadata": {
  "kernelspec": {
   "display_name": "base",
   "language": "python",
   "name": "python3"
  },
  "language_info": {
   "codemirror_mode": {
    "name": "ipython",
    "version": 3
   },
   "file_extension": ".py",
   "mimetype": "text/x-python",
   "name": "python",
   "nbconvert_exporter": "python",
   "pygments_lexer": "ipython3",
   "version": "3.10.14"
  }
 },
 "nbformat": 4,
 "nbformat_minor": 2
}
